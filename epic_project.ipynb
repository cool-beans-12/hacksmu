{
 "cells": [
  {
   "cell_type": "code",
   "execution_count": 3,
   "metadata": {},
   "outputs": [
    {
     "name": "stdout",
     "output_type": "stream",
     "text": [
      "Collecting google.cloud\n",
      "  Downloading https://files.pythonhosted.org/packages/ba/b1/7c54d1950e7808df06642274e677dbcedba57f75307adf2e5ad8d39e5e0e/google_cloud-0.34.0-py2.py3-none-any.whl\n",
      "Installing collected packages: google.cloud\n",
      "Successfully installed google.cloud\n"
     ]
    },
    {
     "name": "stderr",
     "output_type": "stream",
     "text": [
      "WARNING: You are using pip version 19.3.1; however, version 20.0.2 is available.\n",
      "You should consider upgrading via the 'python -m pip install --upgrade pip' command.\n"
     ]
    }
   ],
   "source": [
    "!pip install google.cloud"
   ]
  },
  {
   "cell_type": "code",
   "execution_count": 41,
   "metadata": {},
   "outputs": [],
   "source": [
    "import os, io\n",
    "from google.cloud import vision\n",
    "from google.cloud.vision import types\n",
    "\n",
    "from PIL import Image\n",
    "import pandas as pd"
   ]
  },
  {
   "cell_type": "code",
   "execution_count": 11,
   "metadata": {},
   "outputs": [],
   "source": [
    "os.environ['GOOGLE_APPLICATION_CREDENTIALS'] = r'hacksmu-266917-18ff97f18008.json'\n",
    "client = vision.ImageAnnotatorClient()"
   ]
  },
  {
   "cell_type": "code",
   "execution_count": 103,
   "metadata": {},
   "outputs": [],
   "source": [
    "#Retrieves file name and path (edit later for mobile app integration)\n",
    "file_name = r'multiple_cars.jpg'\n",
    "file_path = f'{file_name}'"
   ]
  },
  {
   "cell_type": "code",
   "execution_count": 104,
   "metadata": {},
   "outputs": [],
   "source": [
    "with io.open(file_path, 'rb') as image_file:\n",
    "    content = image_file.read()"
   ]
  },
  {
   "cell_type": "code",
   "execution_count": 199,
   "metadata": {},
   "outputs": [],
   "source": [
    "image = vision.types.Image(content = content)\n",
    "\n",
    "#Identifies objects\n",
    "def check_vehicle(image, pillow_image):\n",
    "    df = pd.DataFrame(columns = ['name', 'bounds'])\n",
    "\n",
    "    object_response = client.object_localization(image=image)\n",
    "    localized_object_annotations = object_response.localized_object_annotations\n",
    "    \n",
    "    for obj in localized_object_annotations:\n",
    "        if obj.name == \"Car\":\n",
    "            crop_image(pillow_image, obj.bounding_poly)\n",
    "            \n",
    "    return df\n",
    "\n",
    "def identify_color(image):\n",
    "    response = client.image_properties(image=image).image_properties_annotation\n",
    "    dominant_colors = response.dominant_colors\n",
    "    \n",
    "def crop_image(im,bounds):\n",
    "    print(im.size)\n",
    "    x = im.size[0]\n",
    "    y = im.size[1]\n",
    "    print(bounds)\n",
    "    vertex_tuple = (bounds.normalized_vertices[0].x * x, bounds.normalized_vertices[0].y * y, bounds.normalized_vertices[2].x * x, bounds.normalized_vertices[2].y * y)\n",
    "    new_im = im.crop(vertex_tuple)\n",
    "    new_im = new_im.resize((300,300))\n",
    "    new_im.show()\n",
    "    \n",
    "    \n",
    "#Label detection\n",
    "response = client.label_detection(image=image)"
   ]
  },
  {
   "cell_type": "code",
   "execution_count": 200,
   "metadata": {
    "scrolled": true
   },
   "outputs": [
    {
     "name": "stdout",
     "output_type": "stream",
     "text": [
      "(275, 183)\n",
      "normalized_vertices {\n",
      "  x: 0.5602361559867859\n",
      "  y: 0.34969019889831543\n",
      "}\n",
      "normalized_vertices {\n",
      "  x: 0.9332396984100342\n",
      "  y: 0.34969019889831543\n",
      "}\n",
      "normalized_vertices {\n",
      "  x: 0.9332396984100342\n",
      "  y: 0.7112765908241272\n",
      "}\n",
      "normalized_vertices {\n",
      "  x: 0.5602361559867859\n",
      "  y: 0.7112765908241272\n",
      "}\n",
      "\n",
      "(275, 183)\n",
      "normalized_vertices {\n",
      "  x: 0.3199036419391632\n",
      "  y: 0.30167296528816223\n",
      "}\n",
      "normalized_vertices {\n",
      "  x: 0.5822510123252869\n",
      "  y: 0.30167296528816223\n",
      "}\n",
      "normalized_vertices {\n",
      "  x: 0.5822510123252869\n",
      "  y: 0.548373281955719\n",
      "}\n",
      "normalized_vertices {\n",
      "  x: 0.3199036419391632\n",
      "  y: 0.548373281955719\n",
      "}\n",
      "\n",
      "(275, 183)\n",
      "normalized_vertices {\n",
      "  x: 0.052868474274873734\n",
      "  y: 0.39879754185676575\n",
      "}\n",
      "normalized_vertices {\n",
      "  x: 0.4956097900867462\n",
      "  y: 0.39879754185676575\n",
      "}\n",
      "normalized_vertices {\n",
      "  x: 0.4956097900867462\n",
      "  y: 0.8523063063621521\n",
      "}\n",
      "normalized_vertices {\n",
      "  x: 0.052868474274873734\n",
      "  y: 0.8523063063621521\n",
      "}\n",
      "\n",
      "(275, 183)\n",
      "normalized_vertices {\n",
      "  x: 0.5467051267623901\n",
      "  y: 0.23278801143169403\n",
      "}\n",
      "normalized_vertices {\n",
      "  x: 0.7452643513679504\n",
      "  y: 0.23278801143169403\n",
      "}\n",
      "normalized_vertices {\n",
      "  x: 0.7452643513679504\n",
      "  y: 0.4104020893573761\n",
      "}\n",
      "normalized_vertices {\n",
      "  x: 0.5467051267623901\n",
      "  y: 0.4104020893573761\n",
      "}\n",
      "\n"
     ]
    },
    {
     "data": {
      "text/html": [
       "<div>\n",
       "<style scoped>\n",
       "    .dataframe tbody tr th:only-of-type {\n",
       "        vertical-align: middle;\n",
       "    }\n",
       "\n",
       "    .dataframe tbody tr th {\n",
       "        vertical-align: top;\n",
       "    }\n",
       "\n",
       "    .dataframe thead th {\n",
       "        text-align: right;\n",
       "    }\n",
       "</style>\n",
       "<table border=\"1\" class=\"dataframe\">\n",
       "  <thead>\n",
       "    <tr style=\"text-align: right;\">\n",
       "      <th></th>\n",
       "      <th>name</th>\n",
       "      <th>bounds</th>\n",
       "    </tr>\n",
       "  </thead>\n",
       "  <tbody>\n",
       "  </tbody>\n",
       "</table>\n",
       "</div>"
      ],
      "text/plain": [
       "Empty DataFrame\n",
       "Columns: [name, bounds]\n",
       "Index: []"
      ]
     },
     "execution_count": 200,
     "metadata": {},
     "output_type": "execute_result"
    }
   ],
   "source": [
    "pillow_image = Image.open(file_path)\n",
    "check_vehicle(image, pillow_image)\n"
   ]
  }
 ],
 "metadata": {
  "kernelspec": {
   "display_name": "Python 3",
   "language": "python",
   "name": "python3"
  },
  "language_info": {
   "codemirror_mode": {
    "name": "ipython",
    "version": 3
   },
   "file_extension": ".py",
   "mimetype": "text/x-python",
   "name": "python",
   "nbconvert_exporter": "python",
   "pygments_lexer": "ipython3",
   "version": "3.7.3"
  }
 },
 "nbformat": 4,
 "nbformat_minor": 2
}
